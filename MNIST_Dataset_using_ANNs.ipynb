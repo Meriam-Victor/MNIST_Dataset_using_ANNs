{
  "nbformat": 4,
  "nbformat_minor": 0,
  "metadata": {
    "colab": {
      "provenance": [],
      "gpuType": "T4",
      "include_colab_link": true
    },
    "kernelspec": {
      "name": "python3",
      "display_name": "Python 3"
    },
    "language_info": {
      "name": "python"
    },
    "accelerator": "GPU"
  },
  "cells": [
    {
      "cell_type": "markdown",
      "metadata": {
        "id": "view-in-github",
        "colab_type": "text"
      },
      "source": [
        "<a href=\"https://colab.research.google.com/github/Meriam-Victor/MNIST_Dataset_using_ANNs/blob/main/MNIST_Dataset_using_ANNs.ipynb\" target=\"_parent\"><img src=\"https://colab.research.google.com/assets/colab-badge.svg\" alt=\"Open In Colab\"/></a>"
      ]
    },
    {
      "cell_type": "markdown",
      "source": [
        "##Importing Libraries:"
      ],
      "metadata": {
        "id": "jPIjKxmR6Ozy"
      }
    },
    {
      "cell_type": "code",
      "execution_count": null,
      "metadata": {
        "id": "QWdRpV4fc_R6"
      },
      "outputs": [],
      "source": [
        "import numpy as np\n",
        "from tensorflow.keras.models import Sequential\n",
        "from tensorflow.keras.layers import Dense, Flatten, Dropout, BatchNormalization\n",
        "from tensorflow.keras.utils import to_categorical\n",
        "from tensorflow.keras.optimizers import Adam\n",
        "import matplotlib.pyplot as plt\n",
        "from tensorflow.keras.initializers import RandomNormal\n",
        "from tensorflow.keras.losses import SparseCategoricalCrossentropy,CategoricalCrossentropy\n",
        "from tensorflow.keras.metrics import SparseCategoricalAccuracy,CategoricalAccuracy\n",
        "from tensorflow.keras.optimizers import SGD\n",
        "from tensorflow.keras.callbacks import EarlyStopping\n",
        "\n"
      ]
    },
    {
      "cell_type": "markdown",
      "source": [
        "##Installing Dataset:"
      ],
      "metadata": {
        "id": "uTLUUQSG6WPI"
      }
    },
    {
      "cell_type": "code",
      "source": [
        "!pip install mnist\n",
        "import mnist"
      ],
      "metadata": {
        "colab": {
          "base_uri": "https://localhost:8080/"
        },
        "id": "14M7T9Spdset",
        "outputId": "0d82a1cc-001a-485a-fa2c-3a4c9903dd8b"
      },
      "execution_count": null,
      "outputs": [
        {
          "output_type": "stream",
          "name": "stdout",
          "text": [
            "Requirement already satisfied: mnist in /usr/local/lib/python3.10/dist-packages (0.2.2)\n",
            "Requirement already satisfied: numpy in /usr/local/lib/python3.10/dist-packages (from mnist) (1.25.2)\n"
          ]
        }
      ]
    },
    {
      "cell_type": "markdown",
      "source": [
        "##Data Preprocessing:"
      ],
      "metadata": {
        "id": "PpE8pWig6aPX"
      }
    },
    {
      "cell_type": "code",
      "source": [
        "train_images = mnist.train_images()\n",
        "train_labels = mnist.train_labels()\n",
        "test_images = mnist.test_images()\n",
        "test_labels = mnist.test_labels()"
      ],
      "metadata": {
        "id": "--DjxVNvd3CJ"
      },
      "execution_count": null,
      "outputs": []
    },
    {
      "cell_type": "code",
      "source": [
        "# Normalize the images.\n",
        "train_images = (train_images / 255) - 0.5\n",
        "test_images = (test_images / 255) - 0.5"
      ],
      "metadata": {
        "id": "QFs6ugTfd6UR"
      },
      "execution_count": null,
      "outputs": []
    },
    {
      "cell_type": "code",
      "source": [
        "train_images.shape"
      ],
      "metadata": {
        "colab": {
          "base_uri": "https://localhost:8080/"
        },
        "id": "yR0Emj8Kd-im",
        "outputId": "5e34be1f-646d-4c60-de4e-fd43d9c4562e"
      },
      "execution_count": null,
      "outputs": [
        {
          "output_type": "execute_result",
          "data": {
            "text/plain": [
              "(60000, 28, 28)"
            ]
          },
          "metadata": {},
          "execution_count": 158
        }
      ]
    },
    {
      "cell_type": "code",
      "source": [
        "# Reshape the images.\n",
        "train_images = np.expand_dims(train_images, axis=3)\n",
        "test_images = np.expand_dims(test_images, axis=3)"
      ],
      "metadata": {
        "id": "7WP94FHZeCSr"
      },
      "execution_count": null,
      "outputs": []
    },
    {
      "cell_type": "code",
      "source": [
        "train_images.shape"
      ],
      "metadata": {
        "colab": {
          "base_uri": "https://localhost:8080/"
        },
        "id": "3Bhq-R7LeFJV",
        "outputId": "aff7089d-40f4-43ff-a2e9-fcbb41facf7e"
      },
      "execution_count": null,
      "outputs": [
        {
          "output_type": "execute_result",
          "data": {
            "text/plain": [
              "(60000, 28, 28, 1)"
            ]
          },
          "metadata": {},
          "execution_count": 160
        }
      ]
    },
    {
      "cell_type": "code",
      "source": [
        "plt.imshow(train_images[7][:,:,0],cmap='gray')#,cmap='grayscale' google greyscale in matplot\n",
        "plt.show()"
      ],
      "metadata": {
        "colab": {
          "base_uri": "https://localhost:8080/",
          "height": 430
        },
        "id": "A1AmkUApeLT0",
        "outputId": "2c093912-c7e6-414f-eca1-140b6c68ba91"
      },
      "execution_count": null,
      "outputs": [
        {
          "output_type": "display_data",
          "data": {
            "text/plain": [
              "<Figure size 640x480 with 1 Axes>"
            ],
            "image/png": "[encoded data removed]"
          },
          "metadata": {}
        }
      ]
    },
    {
      "cell_type": "code",
      "source": [
        "train_labels[7]"
      ],
      "metadata": {
        "colab": {
          "base_uri": "https://localhost:8080/"
        },
        "id": "kEIN-OH0eNIt",
        "outputId": "6d64dd27-2e11-4ef7-fa39-5299e3613afa"
      },
      "execution_count": null,
      "outputs": [
        {
          "output_type": "execute_result",
          "data": {
            "text/plain": [
              "3"
            ]
          },
          "metadata": {},
          "execution_count": 162
        }
      ]
    },
    {
      "cell_type": "markdown",
      "source": [
        "##Model:"
      ],
      "metadata": {
        "id": "riR-3KNt7LX7"
      }
    },
    {
      "cell_type": "code",
      "source": [
        "learning_rate = 0.001\n",
        "n_epochs = 40 #increasing number of epochs\n",
        "initializer = RandomNormal(mean=0., stddev=1.)"
      ],
      "metadata": {
        "id": "mv5qMKBKeRPv"
      },
      "execution_count": null,
      "outputs": []
    },
    {
      "cell_type": "code",
      "source": [
        "model = Sequential([\n",
        "    Flatten(input_shape=(28, 28, 1)),\n",
        "    Dense(128, activation='relu', kernel_initializer=RandomNormal(mean=0., stddev=1.)),\n",
        "    BatchNormalization(),\n",
        "    Dropout(0.2),\n",
        "    Dense(64, activation='relu', kernel_initializer=RandomNormal(mean=0., stddev=1.)),\n",
        "    BatchNormalization(),\n",
        "    Dropout(0.2),\n",
        "    Dense(32, activation='relu', kernel_initializer=RandomNormal(mean=0., stddev=1.)),\n",
        "    BatchNormalization(),\n",
        "    Dropout(0.2),\n",
        "    Dense(10, activation='softmax', kernel_initializer=RandomNormal(mean=0., stddev=1.))\n",
        "])\n",
        "\n",
        "model.summary()"
      ],
      "metadata": {
        "colab": {
          "base_uri": "https://localhost:8080/"
        },
        "id": "0T2ceBnUee1H",
        "outputId": "02e307c3-37f1-4aaf-ec47-8ceb9801a9ea"
      },
      "execution_count": null,
      "outputs": [
        {
          "output_type": "stream",
          "name": "stdout",
          "text": [
            "Model: \"sequential_16\"\n",
            "_________________________________________________________________\n",
            " Layer (type)                Output Shape              Param #   \n",
            "=================================================================\n",
            " flatten_17 (Flatten)        (None, 784)               0         \n",
            "                                                                 \n",
            " dense_88 (Dense)            (None, 128)               100480    \n",
            "                                                                 \n",
            " batch_normalization_3 (Bat  (None, 128)               512       \n",
            " chNormalization)                                                \n",
            "                                                                 \n",
            " dropout_6 (Dropout)         (None, 128)               0         \n",
            "                                                                 \n",
            " dense_89 (Dense)            (None, 64)                8256      \n",
            "                                                                 \n",
            " batch_normalization_4 (Bat  (None, 64)                256       \n",
            " chNormalization)                                                \n",
            "                                                                 \n",
            " dropout_7 (Dropout)         (None, 64)                0         \n",
            "                                                                 \n",
            " dense_90 (Dense)            (None, 32)                2080      \n",
            "                                                                 \n",
            " batch_normalization_5 (Bat  (None, 32)                128       \n",
            " chNormalization)                                                \n",
            "                                                                 \n",
            " dropout_8 (Dropout)         (None, 32)                0         \n",
            "                                                                 \n",
            " dense_91 (Dense)            (None, 10)                330       \n",
            "                                                                 \n",
            "=================================================================\n",
            "Total params: 112042 (437.66 KB)\n",
            "Trainable params: 111594 (435.91 KB)\n",
            "Non-trainable params: 448 (1.75 KB)\n",
            "_________________________________________________________________\n"
          ]
        }
      ]
    },
    {
      "cell_type": "code",
      "source": [
        "model.compile(\n",
        "    optimizer='adam',\n",
        "    loss= CategoricalCrossentropy(),\n",
        "    metrics=[CategoricalAccuracy()],\n",
        ")\n",
        "\n",
        "early_stopping = EarlyStopping(monitor='val_loss', patience=3, restore_best_weights=True)\n",
        "\n",
        "history = model.fit(\n",
        "    train_images,\n",
        "    to_categorical(train_labels),\n",
        "    epochs=n_epochs,\n",
        "    validation_data=(test_images, to_categorical(test_labels)),\n",
        "    callbacks=[early_stopping]  # Use early stopping\n",
        ")"
      ],
      "metadata": {
        "colab": {
          "base_uri": "https://localhost:8080/"
        },
        "id": "fDsQI6Bxeo3U",
        "outputId": "cc5800ba-988b-4efb-ba37-7f61f04f56f7"
      },
      "execution_count": null,
      "outputs": [
        {
          "output_type": "stream",
          "name": "stdout",
          "text": [
            "Epoch 1/40\n",
            "1875/1875 [==============================] - 21s 9ms/step - loss: 2.2813 - categorical_accuracy: 0.5287 - val_loss: 0.5251 - val_categorical_accuracy: 0.8405\n",
            "Epoch 2/40\n",
            "1875/1875 [==============================] - 11s 6ms/step - loss: 0.7803 - categorical_accuracy: 0.7502 - val_loss: 0.3559 - val_categorical_accuracy: 0.8980\n",
            "Epoch 3/40\n",
            "1875/1875 [==============================] - 10s 5ms/step - loss: 0.5724 - categorical_accuracy: 0.8214 - val_loss: 0.2724 - val_categorical_accuracy: 0.9181\n",
            "Epoch 4/40\n",
            "1875/1875 [==============================] - 10s 5ms/step - loss: 0.4681 - categorical_accuracy: 0.8569 - val_loss: 0.2290 - val_categorical_accuracy: 0.9299\n",
            "Epoch 5/40\n",
            "1875/1875 [==============================] - 10s 6ms/step - loss: 0.4056 - categorical_accuracy: 0.8766 - val_loss: 0.2035 - val_categorical_accuracy: 0.9395\n",
            "Epoch 6/40\n",
            "1875/1875 [==============================] - 10s 5ms/step - loss: 0.3601 - categorical_accuracy: 0.8908 - val_loss: 0.1810 - val_categorical_accuracy: 0.9455\n",
            "Epoch 7/40\n",
            "1875/1875 [==============================] - 10s 5ms/step - loss: 0.3270 - categorical_accuracy: 0.9009 - val_loss: 0.1717 - val_categorical_accuracy: 0.9495\n",
            "Epoch 8/40\n",
            "1875/1875 [==============================] - 11s 6ms/step - loss: 0.3042 - categorical_accuracy: 0.9098 - val_loss: 0.1547 - val_categorical_accuracy: 0.9511\n",
            "Epoch 9/40\n",
            "1875/1875 [==============================] - 11s 6ms/step - loss: 0.2886 - categorical_accuracy: 0.9139 - val_loss: 0.1445 - val_categorical_accuracy: 0.9548\n",
            "Epoch 10/40\n",
            "1875/1875 [==============================] - 10s 6ms/step - loss: 0.2726 - categorical_accuracy: 0.9180 - val_loss: 0.1419 - val_categorical_accuracy: 0.9569\n",
            "Epoch 11/40\n",
            "1875/1875 [==============================] - 11s 6ms/step - loss: 0.2603 - categorical_accuracy: 0.9220 - val_loss: 0.1308 - val_categorical_accuracy: 0.9589\n",
            "Epoch 12/40\n",
            "1875/1875 [==============================] - 11s 6ms/step - loss: 0.2477 - categorical_accuracy: 0.9254 - val_loss: 0.1230 - val_categorical_accuracy: 0.9615\n",
            "Epoch 13/40\n",
            "1875/1875 [==============================] - 10s 5ms/step - loss: 0.2365 - categorical_accuracy: 0.9290 - val_loss: 0.1237 - val_categorical_accuracy: 0.9623\n",
            "Epoch 14/40\n",
            "1875/1875 [==============================] - 9s 5ms/step - loss: 0.2294 - categorical_accuracy: 0.9318 - val_loss: 0.1199 - val_categorical_accuracy: 0.9615\n",
            "Epoch 15/40\n",
            "1875/1875 [==============================] - 11s 6ms/step - loss: 0.2205 - categorical_accuracy: 0.9346 - val_loss: 0.1165 - val_categorical_accuracy: 0.9648\n",
            "Epoch 16/40\n",
            "1875/1875 [==============================] - 10s 5ms/step - loss: 0.2154 - categorical_accuracy: 0.9352 - val_loss: 0.1130 - val_categorical_accuracy: 0.9642\n",
            "Epoch 17/40\n",
            "1875/1875 [==============================] - 11s 6ms/step - loss: 0.2082 - categorical_accuracy: 0.9385 - val_loss: 0.1127 - val_categorical_accuracy: 0.9649\n",
            "Epoch 18/40\n",
            "1875/1875 [==============================] - 10s 5ms/step - loss: 0.2062 - categorical_accuracy: 0.9376 - val_loss: 0.1117 - val_categorical_accuracy: 0.9649\n",
            "Epoch 19/40\n",
            "1875/1875 [==============================] - 11s 6ms/step - loss: 0.2020 - categorical_accuracy: 0.9399 - val_loss: 0.1094 - val_categorical_accuracy: 0.9658\n",
            "Epoch 20/40\n",
            "1875/1875 [==============================] - 10s 5ms/step - loss: 0.1911 - categorical_accuracy: 0.9421 - val_loss: 0.1009 - val_categorical_accuracy: 0.9687\n",
            "Epoch 21/40\n",
            "1875/1875 [==============================] - 11s 6ms/step - loss: 0.1869 - categorical_accuracy: 0.9441 - val_loss: 0.1001 - val_categorical_accuracy: 0.9679\n",
            "Epoch 22/40\n",
            "1875/1875 [==============================] - 11s 6ms/step - loss: 0.1835 - categorical_accuracy: 0.9447 - val_loss: 0.0983 - val_categorical_accuracy: 0.9677\n",
            "Epoch 23/40\n",
            "1875/1875 [==============================] - 11s 6ms/step - loss: 0.1818 - categorical_accuracy: 0.9459 - val_loss: 0.0993 - val_categorical_accuracy: 0.9690\n",
            "Epoch 24/40\n",
            "1875/1875 [==============================] - 10s 5ms/step - loss: 0.1737 - categorical_accuracy: 0.9489 - val_loss: 0.0922 - val_categorical_accuracy: 0.9718\n",
            "Epoch 25/40\n",
            "1875/1875 [==============================] - 10s 5ms/step - loss: 0.1705 - categorical_accuracy: 0.9493 - val_loss: 0.0907 - val_categorical_accuracy: 0.9713\n",
            "Epoch 26/40\n",
            "1875/1875 [==============================] - 11s 6ms/step - loss: 0.1660 - categorical_accuracy: 0.9501 - val_loss: 0.0884 - val_categorical_accuracy: 0.9727\n",
            "Epoch 27/40\n",
            "1875/1875 [==============================] - 10s 5ms/step - loss: 0.1628 - categorical_accuracy: 0.9522 - val_loss: 0.0893 - val_categorical_accuracy: 0.9733\n",
            "Epoch 28/40\n",
            "1875/1875 [==============================] - 10s 5ms/step - loss: 0.1676 - categorical_accuracy: 0.9504 - val_loss: 0.0886 - val_categorical_accuracy: 0.9725\n",
            "Epoch 29/40\n",
            "1875/1875 [==============================] - 11s 6ms/step - loss: 0.1575 - categorical_accuracy: 0.9523 - val_loss: 0.0894 - val_categorical_accuracy: 0.9727\n"
          ]
        }
      ]
    },
    {
      "cell_type": "code",
      "source": [
        "plt.plot(history.history['categorical_accuracy'])\n",
        "plt.plot(history.history['val_categorical_accuracy'])\n",
        "plt.title('model accuracy')\n",
        "plt.ylabel('accuracy')\n",
        "plt.xlabel('epoch')\n",
        "plt.legend(['train', 'val'], loc='upper left')\n",
        "plt.show()\n",
        "\n",
        "\n",
        "plt.plot(history.history['loss'][1:])\n",
        "plt.plot(history.history['val_loss'])\n",
        "plt.title('model loss')\n",
        "plt.ylabel('loss')\n",
        "plt.xlabel('epoch')\n",
        "plt.legend(['train', 'val'], loc='upper left')\n",
        "plt.show()"
      ],
      "metadata": {
        "colab": {
          "base_uri": "https://localhost:8080/",
          "height": 927
        },
        "id": "_Q4cjXkxevGN",
        "outputId": "244edbfb-cbbe-4725-bdaf-e1974e93421f"
      },
      "execution_count": null,
      "outputs": [
        {
          "output_type": "display_data",
          "data": {
            "text/plain": [
              "<Figure size 640x480 with 1 Axes>"
            ],
            "image/png": "[encoded data removed]"
          },
          "metadata": {}
        },
        {
          "output_type": "display_data",
          "data": {
            "text/plain": [
              "<Figure size 640x480 with 1 Axes>"
            ],
            "image/png": "[encoded data removed]"
          },
          "metadata": {}
        }
      ]
    },
    {
      "cell_type": "code",
      "source": [
        "predictions = model.predict(test_images[:5])\n",
        "print(predictions.shape)\n",
        "print(predictions)\n",
        "\n",
        "\n",
        "# Print our model's predictions.\n",
        "print(\"Predictions\")\n",
        "print(np.argmax(predictions, axis=1)) # [7, 2, 1, 0, 4]\n",
        "\n",
        "print(\"Data\")\n",
        "# Check our predictions\n",
        "print(test_labels[:5]) # [7, 2, 1, 0, 4]\n"
      ],
      "metadata": {
        "colab": {
          "base_uri": "https://localhost:8080/"
        },
        "id": "g6wNiQVNey0E",
        "outputId": "57f7a035-7818-4c62-c90e-46dad0a5501a"
      },
      "execution_count": null,
      "outputs": [
        {
          "output_type": "stream",
          "name": "stderr",
          "text": [
            "WARNING:tensorflow:5 out of the last 5 calls to <function Model.make_predict_function.<locals>.predict_function at 0x7d134690edd0> triggered tf.function retracing. Tracing is expensive and the excessive number of tracings could be due to (1) creating @tf.function repeatedly in a loop, (2) passing tensors with different shapes, (3) passing Python objects instead of tensors. For (1), please define your @tf.function outside of the loop. For (2), @tf.function has reduce_retracing=True option that can avoid unnecessary retracing. For (3), please refer to https://www.tensorflow.org/guide/function#controlling_retracing and https://www.tensorflow.org/api_docs/python/tf/function for  more details.\n"
          ]
        },
        {
          "output_type": "stream",
          "name": "stdout",
          "text": [
            "1/1 [==============================] - 0s 110ms/step\n",
            "(5, 10)\n",
            "[[1.9754612e-05 2.5226229e-05 8.5734544e-05 2.2135356e-04 3.3552217e-06\n",
            "  1.1072835e-04 7.3980814e-06 9.9935097e-01 2.1005326e-05 1.5450742e-04]\n",
            " [4.0445945e-04 1.4846262e-03 9.9341005e-01 3.8586538e-03 1.2548486e-05\n",
            "  1.5573393e-04 6.0860209e-05 1.8941751e-04 4.1725516e-04 6.4977630e-06]\n",
            " [1.7439164e-07 9.9990165e-01 9.7505581e-06 4.4889898e-06 2.7935374e-05\n",
            "  1.0884298e-05 1.3929330e-05 1.6029899e-05 1.2136106e-05 3.0657563e-06]\n",
            " [9.9933392e-01 6.9427938e-06 3.2400593e-04 3.8351387e-05 1.8642640e-05\n",
            "  1.4352476e-05 7.9050420e-05 5.7990546e-05 3.2578209e-05 9.4177238e-05]\n",
            " [1.3307508e-06 4.1352887e-06 8.4723106e-06 1.5065771e-06 9.9769646e-01\n",
            "  3.4130501e-06 1.3415142e-06 8.8119981e-05 1.9957990e-06 2.1931953e-03]]\n",
            "Predictions\n",
            "[7 2 1 0 4]\n",
            "Data\n",
            "[7 2 1 0 4]\n"
          ]
        }
      ]
    }
  ]
}